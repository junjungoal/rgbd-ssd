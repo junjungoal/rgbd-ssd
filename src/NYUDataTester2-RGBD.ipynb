{
 "cells": [
  {
   "cell_type": "code",
   "execution_count": 1,
   "metadata": {
    "collapsed": false
   },
   "outputs": [
    {
     "name": "stderr",
     "output_type": "stream",
     "text": [
      "Using TensorFlow backend.\n"
     ]
    }
   ],
   "source": [
    "%matplotlib inline\n",
    "import numpy as np\n",
    "from scipy.misc import imread\n",
    "import pickle\n",
    "import matplotlib.pyplot as plt\n",
    "from scipy.misc import imread, imresize\n",
    "import tensorflow as tf\n",
    "from keras.preprocessing import image\n",
    "from keras.backend.tensorflow_backend import set_session\n",
    "from ssd import SSD300\n",
    "from keras.applications.imagenet_utils import preprocess_input\n",
    "from ssd_utils import BBoxUtility\n",
    "import matplotlib.pyplot as plt\n",
    "from SSD_tester import calc_detection_prec_rec, calc_detection_ap\n",
    "from SSD_RGBD import RGBD_SSD300\n",
    "from depth_preprocess import hole_filling\n",
    "import cv2\n",
    "\n",
    "config = tf.ConfigProto(\n",
    "    gpu_options=tf.GPUOptions(\n",
    "        allow_growth=True \n",
    "    )\n",
    ")\n",
    "sess = sess = tf.Session(config=config)\n",
    "\n"
   ]
  },
  {
   "cell_type": "code",
   "execution_count": 2,
   "metadata": {
    "collapsed": false
   },
   "outputs": [],
   "source": [
    "NYU_CLASSES = ['bathtub', 'bed', 'bookshelf', 'box', 'chair', 'counter', 'desk', 'door', 'dresser',\n",
    "               'garbage_bin', 'lamp', 'monitor', 'night_stand', 'pillow', 'sink', 'sofa', 'table', 'tv', 'toilet']\n",
    "NUM_CLASSES = len(NYU_CLASSES) + 1\n",
    "rgb_input_shape = (300, 300, 3) #channel lastde\n",
    "depth_input_shape = (300, 300, 1\n",
    "                    )"
   ]
  },
  {
   "cell_type": "code",
   "execution_count": 3,
   "metadata": {
    "collapsed": false
   },
   "outputs": [],
   "source": [
    "model = RGBD_SSD300(rgb_input_shape, depth_input_shape, num_classes=NUM_CLASSES)\n",
    "model.load_weights('/data/jun/checkpoints/SUNRGBD/RGBD/v2-4/weights-v2-4.33-2.43.hdf5')"
   ]
  },
  {
   "cell_type": "code",
   "execution_count": 4,
   "metadata": {
    "collapsed": false
   },
   "outputs": [],
   "source": [
    "rgb_gt = pickle.load(open('../pkls/SUNRGBD/RGB_v8.pkl', 'rb'))\n",
    "depth_gt = pickle.load(open('../pkls/SUNRGBD/Depth_v8.pkl', 'rb'))\n",
    "\n",
    "rgb_keys = sorted(rgb_gt.keys())\n",
    "depth_keys = sorted(depth_gt.keys())\n",
    "num_train = int(round(0.9 * len(rgb_keys)))\n",
    "rgb_train_keys = rgb_keys[:num_train]\n",
    "rgb_val_keys = rgb_keys[num_train:]\n",
    "depth_train_keys = depth_keys[:num_train]\n",
    "depth_val_keys = depth_keys[num_train:]\n",
    "num_val = len(rgb_val_keys)"
   ]
  },
  {
   "cell_type": "code",
   "execution_count": 5,
   "metadata": {
    "collapsed": false
   },
   "outputs": [
    {
     "name": "stderr",
     "output_type": "stream",
     "text": [
      "/home/jun/.virtualenvs/rgbd-ssd/lib/python3.4/site-packages/ipykernel_launcher.py:15: DeprecationWarning: `imread` is deprecated!\n",
      "`imread` is deprecated in SciPy 1.0.0, and will be removed in 1.2.0.\n",
      "Use ``imageio.imread`` instead.\n",
      "  from ipykernel import kernelapp as app\n",
      "/home/jun/.virtualenvs/rgbd-ssd/lib/python3.4/site-packages/ipykernel_launcher.py:16: DeprecationWarning: `imread` is deprecated!\n",
      "`imread` is deprecated in SciPy 1.0.0, and will be removed in 1.2.0.\n",
      "Use ``imageio.imread`` instead.\n",
      "  app.launch_new_instance()\n",
      "/home/jun/.virtualenvs/rgbd-ssd/lib/python3.4/site-packages/ipykernel_launcher.py:17: DeprecationWarning: `imresize` is deprecated!\n",
      "`imresize` is deprecated in SciPy 1.0.0, and will be removed in 1.2.0.\n",
      "Use ``skimage.transform.resize`` instead.\n",
      "/home/jun/.virtualenvs/rgbd-ssd/lib/python3.4/site-packages/ipykernel_launcher.py:18: DeprecationWarning: `imresize` is deprecated!\n",
      "`imresize` is deprecated in SciPy 1.0.0, and will be removed in 1.2.0.\n",
      "Use ``skimage.transform.resize`` instead.\n"
     ]
    }
   ],
   "source": [
    "path_prefix = '/data/jun/dataset/'\n",
    "rgb_inputs = []\n",
    "depth_inputs = []\n",
    "images = []\n",
    "# img_path = path_prefix + sorted(val_keys )[100]\n",
    "# img = image.load_img(img_path, target_size=(300, 300))\n",
    "# img = image.img_to_array(img)\n",
    "# images.append(imread(img_path))\n",
    "# inputs.append(img.copy())\n",
    "# inputs = preprocess_input(np.array(inputs))\n",
    "\n",
    "for rgb_key, depth_key in zip(rgb_val_keys, depth_val_keys):\n",
    "    rgb_img_path = path_prefix + rgb_key\n",
    "    depth_img_path = path_prefix + depth_key\n",
    "    rgb_img = imread(rgb_img_path).astype('float32')\n",
    "    depth_img = imread(depth_img_path, mode='L').astype('float32')\n",
    "    rgb_img = imresize(rgb_img, (300, 300)).astype('float32')\n",
    "    depth_img = imresize(depth_img, (300, 300)).astype('float32')\n",
    "    depth_img = depth_img / np.max(depth_img)\n",
    "    depth_img = np.sqrt(depth_img)\n",
    "    depth_img = np.array(depth_img*256, dtype=int)\n",
    "    depth_img = hole_filling(depth_img)\n",
    "    depth_img = np.uint8(depth_img)\n",
    "    depth_img = cv2.Canny(depth_img, 70, 110)\n",
    "    depth_img = cv2.bilateralFilter(depth_img, d=5, sigmaColor=5, sigmaSpace=2)\n",
    "    depth_img = np.expand_dims(depth_img, axis=2)\n",
    "    std = np.std(rgb_img)\n",
    "    rgb_img -= np.mean(rgb_img)\n",
    "    rgb_img /= std\n",
    "\n",
    "    \n",
    "    rgb_inputs.append(rgb_img.copy())\n",
    "    depth_inputs.append(depth_img.copy())\n",
    "    \n",
    "inputs = [np.array(rgb_inputs), np.array(depth_inputs)]"
   ]
  },
  {
   "cell_type": "code",
   "execution_count": 6,
   "metadata": {
    "collapsed": false
   },
   "outputs": [
    {
     "name": "stdout",
     "output_type": "stream",
     "text": [
      "966/966 [==============================] - 18s    \n"
     ]
    }
   ],
   "source": [
    "priors = pickle.load(open('../pkls/prior_boxes_ssd300.pkl', 'rb'))\n",
    "bbox_util = BBoxUtility(NUM_CLASSES, priors)\n",
    "preds = model.predict(inputs, batch_size=16, verbose=1)"
   ]
  },
  {
   "cell_type": "code",
   "execution_count": 7,
   "metadata": {
    "collapsed": true
   },
   "outputs": [],
   "source": [
    "results = bbox_util.detection_out(preds, confidence_threshold=0.6)"
   ]
  },
  {
   "cell_type": "code",
   "execution_count": 8,
   "metadata": {
    "collapsed": false
   },
   "outputs": [],
   "source": [
    "gt_bboxes = []\n",
    "gt_labels = []\n",
    "gt_scores = []\n",
    "for key in rgb_val_keys:\n",
    "    index = np.where(rgb_gt[key][:, 4:] == 1)\n",
    "    gt_bboxes.append(rgb_gt[key][:, :4])\n",
    "    gt_labels.append((index[1]).reshape(len(index[1]), 1))\n",
    "    gt_scores.append(np.ones((len(index[1]), 1)))\n",
    "gt_bboxes = np.array(gt_bboxes)\n",
    "gt_labels = np.array(gt_labels)\n",
    "gt_scores = np.array(gt_scores)"
   ]
  },
  {
   "cell_type": "code",
   "execution_count": 9,
   "metadata": {
    "collapsed": false
   },
   "outputs": [],
   "source": [
    "pred_labels = []\n",
    "pred_scores = []\n",
    "pred_bboxes = []\n",
    "for result in results:\n",
    "    if len(result) != 0:\n",
    "        nm = len(result[:, 1])\n",
    "        pred_labels.append((result[:, 0]-1).reshape(nm, 1))\n",
    "        pred_scores.append(result[:, 1:2].reshape(nm, 1))\n",
    "        pred_bboxes.append(result[:, 2:].reshape(nm, 4))\n",
    "    else:\n",
    "        pred_labels.append(np.array([]).reshape(0, 1))\n",
    "        pred_scores.append(np.array([]).reshape(0, 1))\n",
    "        pred_bboxes.append(np.array([]).reshape(0, 1))\n",
    "pred_labels = np.array(pred_labels)\n",
    "pred_scores = np.array(pred_scores)\n",
    "\n",
    "pred_bboxes = np.array(pred_bboxes)"
   ]
  },
  {
   "cell_type": "code",
   "execution_count": 10,
   "metadata": {
    "collapsed": false
   },
   "outputs": [
    {
     "data": {
      "text/plain": [
       "(966,)"
      ]
     },
     "execution_count": 10,
     "metadata": {},
     "output_type": "execute_result"
    }
   ],
   "source": [
    "gt_labels.shape"
   ]
  },
  {
   "cell_type": "code",
   "execution_count": null,
   "metadata": {
    "collapsed": false
   },
   "outputs": [],
   "source": []
  },
  {
   "cell_type": "code",
   "execution_count": 11,
   "metadata": {
    "collapsed": false
   },
   "outputs": [],
   "source": [
    "prec, rec = calc_detection_prec_rec(pred_labels, pred_scores, pred_bboxes, gt_bboxes, gt_labels, iou_thresh=0.3)"
   ]
  },
  {
   "cell_type": "code",
   "execution_count": 12,
   "metadata": {
    "collapsed": false
   },
   "outputs": [
    {
     "data": {
      "text/plain": [
       "{'ap': array([ 0.27272727,  0.4239952 ,  0.43528139,  0.12702366,  0.61683616,\n",
       "         0.27986443,  0.23825798,  0.20377804,  0.17467532,  0.29707609,\n",
       "         0.21165067,  0.1384535 ,  0.        ,  0.23712647,  0.34781145,\n",
       "         0.51544657,  0.42311764,  0.16942149,  0.7701049 ]),\n",
       " 'map': 0.30961306395317917}"
      ]
     },
     "execution_count": 12,
     "metadata": {},
     "output_type": "execute_result"
    }
   ],
   "source": [
    "ap = calc_detection_ap(prec, rec, use_07_metric=True)\n",
    "{'ap': ap, 'map': np.nanmean(ap)}"
   ]
  },
  {
   "cell_type": "code",
   "execution_count": null,
   "metadata": {
    "collapsed": true
   },
   "outputs": [],
   "source": []
  },
  {
   "cell_type": "code",
   "execution_count": null,
   "metadata": {
    "collapsed": false
   },
   "outputs": [],
   "source": [
    "for i, img in enumerate(images):\n",
    "    if len(results[i]) == 0:\n",
    "        continue\n",
    "    det_label = results[i][:, 0]\n",
    "    det_conf = results[i][:, 1]\n",
    "    det_xmin = results[i][:, 2]\n",
    "    det_ymin = results[i][:, 3]\n",
    "    det_xmax = results[i][:, 4]\n",
    "    det_ymax = results[i][:, 5]\n",
    "\n",
    "    # Get detections with confidence higher than 0.6.\n",
    "    top_indices = [i for i, conf in enumerate(det_conf) if conf >= 0.5]\n",
    "\n",
    "    top_conf = det_conf[top_indices]\n",
    "    top_label_indices = det_label[top_indices].tolist()\n",
    "    top_xmin = det_xmin[top_indices]\n",
    "    top_ymin = det_ymin[top_indices]\n",
    "    top_xmax = det_xmax[top_indices]\n",
    "    top_ymax = det_ymax[top_indices]\n",
    "\n",
    "    colors = plt.cm.hsv(np.linspace(0, 1, 21)).tolist()\n",
    "    plt.imshow(img / 255.)\n",
    "    currentAxis = plt.gca()\n",
    "\n",
    "\n",
    "    for i in range(top_conf.shape[0]):\n",
    "        xmin = int(round(top_xmin[i] * img.shape[1]))\n",
    "        ymin = int(round(top_ymin[i] * img.shape[0]))\n",
    "        xmax = int(round(top_xmax[i] * img.shape[1]))\n",
    "        ymax = int(round(top_ymax[i] * img.shape[0]))\n",
    "        score = top_conf[i]\n",
    "        label = int(top_label_indices[i])\n",
    "        label_name = NYU_CLASSES[label - 1]\n",
    "        display_txt = '{:0.2f}, {}'.format(score, label_name)\n",
    "        coords = (xmin, ymin), xmax-xmin, ymax-ymin\n",
    "        color = colors[label]\n",
    "        currentAxis.add_patch(plt.Rectangle(*coords, fill=False, edgecolor=color, linewidth=2))\n",
    "        currentAxis.text(xmin, ymin, display_txt, bbox={'facecolor':color, 'alpha':0.5})\n",
    "    \n",
    "    plt.show()"
   ]
  },
  {
   "cell_type": "code",
   "execution_count": null,
   "metadata": {
    "collapsed": false
   },
   "outputs": [],
   "source": [
    "#calc_map()\n",
    "y_true = []\n",
    "for key in val_keys:\n",
    "    y_true.append(gt[key])\n",
    "y_true = np.array(y_true)\n",
    "print(y_true.shape)"
   ]
  },
  {
   "cell_type": "code",
   "execution_count": null,
   "metadata": {
    "collapsed": false
   },
   "outputs": [],
   "source": [
    "inputs = []\n",
    "images = []\n",
    "for key in val_keys:\n",
    "    img_path = path_prefix + key\n",
    "    img = image.load_img(img_path, target_size=(300, 300))\n",
    "    img = image.img_to_array(img)\n",
    "    images.append(imread(img_path))\n",
    "    inputs.append(img.copy())\n",
    "inputs = preprocess_input(np.array(inputs))\n",
    "preds = model.predict(inputs, batch_size=1, verbose=1)\n",
    "results = bbox_util.detection_out(preds)"
   ]
  },
  {
   "cell_type": "code",
   "execution_count": null,
   "metadata": {
    "collapsed": false
   },
   "outputs": [],
   "source": [
    "#calc_map(y_true, results)\n",
    "print(results[0])"
   ]
  },
  {
   "cell_type": "code",
   "execution_count": null,
   "metadata": {
    "collapsed": true
   },
   "outputs": [],
   "source": []
  },
  {
   "cell_type": "code",
   "execution_count": null,
   "metadata": {
    "collapsed": true
   },
   "outputs": [],
   "source": []
  },
  {
   "cell_type": "code",
   "execution_count": null,
   "metadata": {
    "collapsed": true
   },
   "outputs": [],
   "source": []
  },
  {
   "cell_type": "code",
   "execution_count": null,
   "metadata": {
    "collapsed": true
   },
   "outputs": [],
   "source": []
  },
  {
   "cell_type": "code",
   "execution_count": null,
   "metadata": {
    "collapsed": true
   },
   "outputs": [],
   "source": []
  },
  {
   "cell_type": "code",
   "execution_count": null,
   "metadata": {
    "collapsed": true
   },
   "outputs": [],
   "source": []
  },
  {
   "cell_type": "code",
   "execution_count": null,
   "metadata": {
    "collapsed": true
   },
   "outputs": [],
   "source": []
  }
 ],
 "metadata": {
  "kernelspec": {
   "display_name": "Python 3",
   "language": "python",
   "name": "python3"
  },
  "language_info": {
   "codemirror_mode": {
    "name": "ipython",
    "version": 3
   },
   "file_extension": ".py",
   "mimetype": "text/x-python",
   "name": "python",
   "nbconvert_exporter": "python",
   "pygments_lexer": "ipython3",
   "version": "3.4.3"
  }
 },
 "nbformat": 4,
 "nbformat_minor": 2
}
