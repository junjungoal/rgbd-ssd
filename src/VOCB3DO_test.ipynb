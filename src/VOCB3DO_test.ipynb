{
 "cells": [
  {
   "cell_type": "markdown",
   "metadata": {},
   "source": [
    "### Libraries "
   ]
  },
  {
   "cell_type": "code",
   "execution_count": 1,
   "metadata": {
    "collapsed": false
   },
   "outputs": [
    {
     "name": "stderr",
     "output_type": "stream",
     "text": [
      "Using TensorFlow backend.\n"
     ]
    }
   ],
   "source": [
    "%matplotlib inline\n",
    "from keras.applications.imagenet_utils import preprocess_input\n",
    "from keras.backend.tensorflow_backend import set_session\n",
    "from keras.preprocessing import image\n",
    "from keras.preprocessing.image import ImageDataGenerator\n",
    "from keras.layers import Concatenate\n",
    "import numpy as np\n",
    "from scipy.misc import imread\n",
    "import tensorflow as tf\n",
    "import pickle\n",
    "import keras\n",
    "from ssd import SSD300\n",
    "from ssd_training import MultiboxLoss\n",
    "from ssd_utils import BBoxUtility\n",
    "from random import shuffle\n",
    "import matplotlib.pyplot as plt\n",
    "from SSD_tester import calc_detection_prec_rec, calc_detection_ap\n",
    "\n",
    "\n",
    "config = tf.ConfigProto(\n",
    "    gpu_options=tf.GPUOptions(\n",
    "        allow_growth=True # True->必要になったら確保, False->全部\n",
    "    )\n",
    ")\n",
    "sess = sess = tf.Session(config=config)\n"
   ]
  },
  {
   "cell_type": "code",
   "execution_count": 2,
   "metadata": {
    "collapsed": true
   },
   "outputs": [],
   "source": [
    "voc_classes = ['door_handle', 'book', 'bottle', 'pillow', 'bowl', 'phone', 'speaker', 'plate', 'table', \n",
    "               'cup', 'monitor', 'keyboard', 'letter_tray', 'sofa', 'paper_notebook', 'power_outlet', \n",
    "               'tabple_knife', 'soap', 'bookcase','chair']\n",
    "NUM_CLASSES = len(voc_classes) + 1\n",
    "input_shape = (300, 300, 3) #channel last"
   ]
  },
  {
   "cell_type": "markdown",
   "metadata": {},
   "source": [
    "### Load the weight from the hdf5"
   ]
  },
  {
   "cell_type": "code",
   "execution_count": 3,
   "metadata": {
    "collapsed": false
   },
   "outputs": [
    {
     "name": "stdout",
     "output_type": "stream",
     "text": [
      "(64,)\n"
     ]
    }
   ],
   "source": [
    "model = SSD300(input_shape, num_classes=NUM_CLASSES)\n",
    "model.load_weights('../checkpoints/VOCB3DO/weights', by_name=True)"
   ]
  },
  {
   "cell_type": "code",
   "execution_count": 4,
   "metadata": {
    "collapsed": false
   },
   "outputs": [],
   "source": [
    "gt = pickle.load(open('../pkls/VOCB3DO.pkl', 'rb'))\n",
    "keys = sorted(gt.keys())\n",
    "num_train = int(round(0.8 * len(keys)))\n",
    "train_keys = keys[:num_train]\n",
    "val_keys = keys[num_train:]\n",
    "num_val = len(val_keys)\n",
    "\n",
    "path_prefix = '../dataset/VOCB3DO/KinectColor/'\n",
    "inputs = []\n",
    "images = []\n",
    "val_keys = sorted(val_keys)\n",
    "for key in val_keys:\n",
    "    img_path = path_prefix + key\n",
    "    img = image.load_img(img_path, target_size=(300, 300))\n",
    "    img = image.img_to_array(img)\n",
    "    images.append(imread(img_path))\n",
    "    inputs.append(img.copy())\n",
    "inputs = preprocess_input(np.array(inputs))\n"
   ]
  },
  {
   "cell_type": "code",
   "execution_count": 5,
   "metadata": {
    "collapsed": false
   },
   "outputs": [],
   "source": [
    "#print(inputs.shape)"
   ]
  },
  {
   "cell_type": "code",
   "execution_count": 6,
   "metadata": {
    "collapsed": false
   },
   "outputs": [
    {
     "name": "stdout",
     "output_type": "stream",
     "text": [
      "170/170 [==============================] - 8s     \n"
     ]
    }
   ],
   "source": [
    "priors = pickle.load(open('../pkls/prior_boxes_ssd300.pkl', 'rb'))\n",
    "bbox_util = BBoxUtility(NUM_CLASSES, priors)\n",
    "preds = model.predict(inputs, batch_size=32, verbose=1)\n",
    "results = bbox_util.detection_out(preds, confidence_threshold=0.5)\n",
    "results = np.array(results)"
   ]
  },
  {
   "cell_type": "code",
   "execution_count": 7,
   "metadata": {
    "collapsed": false
   },
   "outputs": [],
   "source": [
    "gt_bboxes = []\n",
    "gt_labels = []\n",
    "gt_scores = []\n",
    "for key in val_keys:\n",
    "    index = np.where(gt[key][:, 4:] == 1)\n",
    "    gt_bboxes.append(gt[key][:, :4])\n",
    "    gt_labels.append((index[1]).reshape(len(index[1]), 1))\n",
    "    gt_scores.append(np.ones((len(index[1]), 1)))\n",
    "gt_bboxes = np.array(gt_bboxes)\n",
    "gt_labels = np.array(gt_labels)\n",
    "gt_scores = np.array(gt_scores)"
   ]
  },
  {
   "cell_type": "code",
   "execution_count": 8,
   "metadata": {
    "collapsed": false
   },
   "outputs": [],
   "source": [
    "pred_labels = []\n",
    "pred_scores = []\n",
    "pred_bboxes = []\n",
    "for result in results:\n",
    "    if len(result) != 0:\n",
    "        nm = len(result[:, 1])\n",
    "        pred_labels.append((result[:, 0]-1).reshape(nm, 1))\n",
    "        pred_scores.append(result[:, 1:2].reshape(nm, 1))\n",
    "        pred_bboxes.append(result[:, 2:].reshape(nm, 4))\n",
    "    else:\n",
    "        pred_labels.append(np.array([]).reshape(0, 1))\n",
    "        pred_scores.append(np.array([]).reshape(0, 1))\n",
    "        pred_bboxes.append(np.array([]).reshape(0, 1))\n",
    "pred_labels = np.array(pred_labels)\n",
    "pred_scores = np.array(pred_scores)\n",
    "\n",
    "pred_bboxes = np.array(pred_bboxes)"
   ]
  },
  {
   "cell_type": "code",
   "execution_count": 9,
   "metadata": {
    "collapsed": false
   },
   "outputs": [
    {
     "name": "stdout",
     "output_type": "stream",
     "text": [
      "(4, 1)\n"
     ]
    }
   ],
   "source": [
    "print(gt_labels[0].shape)"
   ]
  },
  {
   "cell_type": "code",
   "execution_count": 10,
   "metadata": {
    "collapsed": false
   },
   "outputs": [
    {
     "name": "stdout",
     "output_type": "stream",
     "text": [
      "[array([ 1.]), array([ 1.        ,  1.        ,  0.66666667,  0.75      ,  0.6       ,\n",
      "        0.66666667,  0.57142857,  0.5       ,  0.44444444,  0.5       ,\n",
      "        0.45454545,  0.41666667,  0.46153846,  0.5       ,  0.46666667,\n",
      "        0.5       ,  0.47058824,  0.5       ,  0.52631579,  0.5       ,\n",
      "        0.52380952,  0.5       ,  0.47826087,  0.45833333,  0.48      ,\n",
      "        0.5       ,  0.48148148,  0.46428571,  0.44827586,  0.43333333,\n",
      "        0.4516129 ,  0.46875   ,  0.45454545,  0.44117647,  0.42857143,\n",
      "        0.44444444,  0.43243243,  0.42105263,  0.41025641,  0.4       ,\n",
      "        0.41463415]), array([ 0.        ,  0.5       ,  0.33333333,  0.5       ,  0.6       ,\n",
      "        0.66666667,  0.71428571,  0.75      ,  0.77777778,  0.8       ,\n",
      "        0.81818182,  0.83333333,  0.76923077,  0.78571429,  0.73333333,\n",
      "        0.75      ,  0.70588235,  0.72222222,  0.73684211,  0.7       ,\n",
      "        0.66666667,  0.63636364,  0.65217391,  0.625     ,  0.6       ,\n",
      "        0.61538462,  0.62962963,  0.64285714,  0.62068966,  0.6       ,\n",
      "        0.58064516,  0.59375   ,  0.60606061,  0.61764706,  0.62857143,\n",
      "        0.63888889,  0.64864865,  0.65789474,  0.66666667,  0.65      ,\n",
      "        0.63414634,  0.61904762,  0.62790698,  0.61363636,  0.6       ,\n",
      "        0.58695652,  0.57446809,  0.5625    ,  0.57142857,  0.56      ,\n",
      "        0.54901961,  0.53846154,  0.52830189,  0.51851852,  0.50909091,\n",
      "        0.51785714,  0.50877193,  0.51724138,  0.50847458,  0.5       ,\n",
      "        0.49180328,  0.48387097,  0.49206349,  0.484375  ,  0.47692308,\n",
      "        0.48484848,  0.47761194,  0.47058824,  0.46376812,  0.45714286,\n",
      "        0.46478873,  0.45833333,  0.46575342,  0.45945946,  0.45333333,\n",
      "        0.44736842,  0.45454545,  0.44871795,  0.44303797,  0.45      ,\n",
      "        0.44444444,  0.43902439,  0.43373494,  0.42857143,  0.43529412,\n",
      "        0.44186047,  0.43678161,  0.43181818,  0.43820225,  0.43333333,\n",
      "        0.43956044,  0.44565217,  0.44086022,  0.44680851,  0.45263158,\n",
      "        0.44791667,  0.44329897,  0.44897959,  0.44444444,  0.45      ]), array([ 1.        ,  0.5       ,  0.66666667,  0.75      ,  0.8       ,\n",
      "        0.66666667,  0.71428571,  0.625     ,  0.55555556,  0.5       ,\n",
      "        0.45454545,  0.41666667,  0.38461538,  0.35714286,  0.4       ,\n",
      "        0.375     ,  0.35294118,  0.33333333,  0.31578947,  0.3       ,\n",
      "        0.28571429,  0.27272727,  0.30434783,  0.29166667,  0.28      ]), array([ 1.        ,  1.        ,  1.        ,  1.        ,  1.        ,\n",
      "        1.        ,  0.85714286,  0.875     ,  0.88888889,  0.9       ,\n",
      "        0.81818182,  0.75      ,  0.69230769,  0.71428571,  0.66666667,\n",
      "        0.6875    ,  0.64705882,  0.61111111,  0.63157895,  0.65      ,\n",
      "        0.61904762]), array([ 0.,  0.,  0.]), array([ 0.]), array([ 0.,  0.,  0.,  0.]), array([ 0.        ,  0.        ,  0.33333333,  0.5       ,  0.4       ,\n",
      "        0.33333333,  0.28571429,  0.25      ,  0.33333333,  0.4       ,\n",
      "        0.45454545,  0.5       ,  0.46153846,  0.5       ,  0.46666667,\n",
      "        0.4375    ,  0.41176471,  0.44444444,  0.42105263,  0.4       ,\n",
      "        0.42857143,  0.45454545,  0.47826087,  0.5       ,  0.52      ,\n",
      "        0.5       ,  0.48148148,  0.46428571,  0.48275862,  0.46666667,\n",
      "        0.48387097,  0.46875   ,  0.48484848,  0.5       ,  0.48571429,\n",
      "        0.47222222,  0.45945946,  0.44736842,  0.43589744,  0.425     ,\n",
      "        0.41463415,  0.4047619 ,  0.39534884,  0.38636364,  0.4       ,\n",
      "        0.41304348,  0.40425532,  0.39583333,  0.3877551 ,  0.4       ,\n",
      "        0.39215686,  0.40384615,  0.41509434,  0.40740741,  0.4       ,\n",
      "        0.39285714,  0.38596491,  0.37931034,  0.38983051,  0.38333333,\n",
      "        0.37704918,  0.37096774,  0.36507937,  0.359375  ,  0.35384615,\n",
      "        0.34848485,  0.34328358,  0.33823529,  0.33333333,  0.34285714,\n",
      "        0.33802817,  0.33333333,  0.32876712,  0.32432432,  0.32      ,\n",
      "        0.31578947,  0.31168831,  0.30769231,  0.30379747,  0.3       ,\n",
      "        0.30864198,  0.30487805,  0.30120482,  0.29761905,  0.29411765,\n",
      "        0.29069767,  0.29885057,  0.29545455,  0.29213483,  0.28888889,\n",
      "        0.28571429,  0.2826087 ,  0.27956989,  0.27659574,  0.27368421,\n",
      "        0.27083333,  0.26804124,  0.26530612,  0.26262626,  0.26      ,\n",
      "        0.25742574,  0.25490196,  0.25242718,  0.25      ,  0.24761905,\n",
      "        0.24528302,  0.24299065,  0.24074074,  0.23853211,  0.23636364,\n",
      "        0.23423423,  0.23214286,  0.2300885 ,  0.22807018,  0.23478261,\n",
      "        0.23275862,  0.23076923,  0.22881356,  0.22689076]), array([ 1.        ,  1.        ,  0.66666667,  0.75      ,  0.6       ,\n",
      "        0.66666667,  0.57142857,  0.5       ,  0.55555556,  0.5       ,\n",
      "        0.45454545,  0.41666667,  0.46153846,  0.42857143,  0.4       ,\n",
      "        0.4375    ,  0.47058824,  0.5       ,  0.47368421,  0.45      ,\n",
      "        0.47619048,  0.45454545,  0.43478261,  0.41666667,  0.4       ,\n",
      "        0.38461538,  0.37037037,  0.35714286,  0.34482759,  0.33333333,\n",
      "        0.32258065,  0.3125    ,  0.3030303 ,  0.29411765,  0.28571429,\n",
      "        0.27777778,  0.27027027,  0.26315789,  0.25641026,  0.25      ,\n",
      "        0.24390244,  0.23809524,  0.23255814,  0.22727273,  0.22222222,\n",
      "        0.2173913 ,  0.21276596,  0.20833333,  0.20408163,  0.2       ,\n",
      "        0.19607843,  0.19230769,  0.20754717,  0.2037037 ,  0.2       ,\n",
      "        0.19642857,  0.19298246,  0.18965517,  0.18644068,  0.18333333,\n",
      "        0.18032787,  0.17741935,  0.17460317,  0.171875  ,  0.16923077,\n",
      "        0.16666667,  0.1641791 ,  0.17647059,  0.17391304,  0.17142857,\n",
      "        0.18309859,  0.18055556,  0.17808219,  0.18918919,  0.2       ,\n",
      "        0.19736842,  0.19480519,  0.19230769,  0.18987342,  0.1875    ,\n",
      "        0.18518519,  0.18292683,  0.18072289,  0.17857143,  0.17647059,\n",
      "        0.1744186 ,  0.17241379,  0.17045455,  0.16853933,  0.16666667,\n",
      "        0.16483516,  0.16304348,  0.16129032,  0.15957447,  0.15789474]), array([ 1.        ,  0.5       ,  0.33333333,  0.25      ,  0.4       ,\n",
      "        0.33333333,  0.42857143,  0.375     ,  0.33333333,  0.3       ,\n",
      "        0.27272727,  0.25      ,  0.23076923,  0.21428571]), array([ 0.,  0.,  0.,  0.,  0.,  0.,  0.,  0.]), array([], dtype=float64), array([ 0.        ,  0.5       ,  0.33333333,  0.5       ,  0.6       ,\n",
      "        0.66666667,  0.57142857,  0.5       ,  0.44444444,  0.5       ,\n",
      "        0.45454545,  0.41666667,  0.38461538,  0.42857143,  0.4       ,\n",
      "        0.375     ,  0.35294118,  0.33333333,  0.31578947,  0.3       ,\n",
      "        0.28571429,  0.27272727,  0.26086957,  0.25      ,  0.24      ,\n",
      "        0.23076923,  0.22222222,  0.21428571,  0.20689655,  0.2       ,\n",
      "        0.19354839,  0.1875    ]), array([], dtype=float64), array([ 0.  ,  0.  ,  0.  ,  0.25,  0.2 ]), array([], dtype=float64), array([ 0.]), array([ 0.        ,  0.        ,  0.        ,  0.25      ,  0.2       ,\n",
      "        0.33333333]), array([ 1.        ,  1.        ,  1.        ,  1.        ,  1.        ,\n",
      "        1.        ,  1.        ,  0.875     ,  0.88888889,  0.9       ,\n",
      "        0.90909091,  0.91666667,  0.84615385,  0.85714286,  0.8       ,\n",
      "        0.75      ,  0.70588235,  0.72222222,  0.68421053,  0.7       ,\n",
      "        0.71428571,  0.72727273,  0.73913043,  0.75      ,  0.72      ,\n",
      "        0.69230769,  0.66666667,  0.67857143,  0.68965517,  0.66666667,\n",
      "        0.64516129,  0.625     ,  0.60606061,  0.58823529,  0.6       ,\n",
      "        0.58333333,  0.56756757,  0.55263158,  0.56410256,  0.55      ,\n",
      "        0.53658537,  0.52380952,  0.51162791,  0.5       ,  0.48888889,\n",
      "        0.47826087,  0.4893617 ,  0.5       ,  0.48979592,  0.48      ,\n",
      "        0.47058824,  0.46153846,  0.45283019,  0.44444444,  0.43636364,\n",
      "        0.42857143,  0.42105263,  0.4137931 ,  0.42372881,  0.43333333,\n",
      "        0.42622951,  0.43548387,  0.42857143,  0.421875  ,  0.43076923,\n",
      "        0.42424242,  0.41791045,  0.41176471,  0.4057971 ,  0.4       ,\n",
      "        0.3943662 ,  0.40277778,  0.39726027,  0.39189189,  0.4       ,\n",
      "        0.39473684,  0.38961039,  0.38461538,  0.37974684,  0.375     ,\n",
      "        0.37037037,  0.36585366,  0.36144578,  0.35714286,  0.35294118,\n",
      "        0.34883721,  0.34482759,  0.34090909,  0.33707865,  0.33333333,\n",
      "        0.32967033,  0.32608696,  0.32258065,  0.31914894,  0.31578947,\n",
      "        0.3125    ,  0.30927835,  0.30612245,  0.3030303 ,  0.3       ,\n",
      "        0.2970297 ,  0.29411765,  0.29126214,  0.28846154,  0.28571429,\n",
      "        0.28301887,  0.28037383,  0.27777778,  0.27522936,  0.27272727,\n",
      "        0.27027027,  0.26785714,  0.26548673,  0.26315789,  0.26086957,\n",
      "        0.25862069,  0.25641026,  0.25423729,  0.2605042 ,  0.25833333,\n",
      "        0.25619835,  0.25409836,  0.25203252,  0.25      ,  0.248     ,\n",
      "        0.24603175,  0.24409449,  0.2421875 ,  0.24031008,  0.24615385])]\n"
     ]
    }
   ],
   "source": [
    "prec, rec = calc_detection_prec_rec(pred_labels, pred_scores, pred_bboxes, gt_bboxes, gt_labels, iou_thresh=0.3)\n",
    "print(prec)"
   ]
  },
  {
   "cell_type": "code",
   "execution_count": 12,
   "metadata": {
    "collapsed": false
   },
   "outputs": [
    {
     "data": {
      "text/plain": [
       "{'ap': array([ 0.09090909,  0.22700691,  0.35860864,  0.16363636,  0.38766234,\n",
       "         0.        ,  0.        ,         nan,  0.25617741,  0.28704974,\n",
       "         0.25974026,  0.        ,  0.        ,  0.26623377,  0.        ,\n",
       "         0.02272727,  0.        ,  0.        ,  0.09090909,  0.44658245]),\n",
       " 'map': 0.15038122820375407}"
      ]
     },
     "execution_count": 12,
     "metadata": {},
     "output_type": "execute_result"
    }
   ],
   "source": [
    "ap = calc_detection_ap(prec, rec, use_07_metric=True)\n",
    "{'ap': ap, 'map': np.nanmean(ap)}"
   ]
  },
  {
   "cell_type": "code",
   "execution_count": null,
   "metadata": {
    "collapsed": true
   },
   "outputs": [],
   "source": []
  },
  {
   "cell_type": "code",
   "execution_count": null,
   "metadata": {
    "collapsed": false,
    "scrolled": true
   },
   "outputs": [],
   "source": [
    "for i, img in enumerate(images):\n",
    "    # Parse the outputs.\n",
    "    det_label = results[i][:, 0]\n",
    "    det_conf = results[i][:, 1]\n",
    "    det_xmin = results[i][:, 2]\n",
    "    det_ymin = results[i][:, 3]\n",
    "    det_xmax = results[i][:, 4]\n",
    "    det_ymax = results[i][:, 5]\n",
    "\n",
    "    # Get detections with confidence higher than 0.6.\n",
    "    top_indices = [i for i, conf in enumerate(det_conf) if conf >= 0.5]\n",
    "\n",
    "    top_conf = det_conf[top_indices]\n",
    "    top_label_indices = det_label[top_indices].tolist()\n",
    "    top_xmin = det_xmin[top_indices]\n",
    "    top_ymin = det_ymin[top_indices]\n",
    "    top_xmax = det_xmax[top_indices]\n",
    "    top_ymax = det_ymax[top_indices]\n",
    "\n",
    "    colors = plt.cm.hsv(np.linspace(0, 1, NUM_CLASSES)).tolist()\n",
    "    print(img.shape)\n",
    "    plt.imshow(img / 255.)\n",
    "    currentAxis = plt.gca()\n",
    "\n",
    "    for i in range(top_conf.shape[0]):\n",
    "        xmin = int(round(top_xmin[i] * 300))\n",
    "        ymin = int(round(top_ymin[i] * 300))\n",
    "        xmax = int(round(top_xmax[i] * 300))\n",
    "        ymax = int(round(top_ymax[i] * 300))\n",
    "        score = top_conf[i]\n",
    "        label = int(top_label_indices[i])\n",
    "        label_name = voc_classes[label - 1]\n",
    "        display_txt = '{:0.2f}, {}'.format(score, label_name)\n",
    "        coords = (xmin, ymin), xmax-xmin+1, ymax-ymin+1\n",
    "        color = colors[label]\n",
    "        currentAxis.add_patch(plt.Rectangle(*coords, fill=False, edgecolor=color, linewidth=2))\n",
    "        currentAxis.text(xmin, ymin, display_txt, bbox={'facecolor':color, 'alpha':0.5})\n",
    "    \n",
    "    plt.show()"
   ]
  },
  {
   "cell_type": "code",
   "execution_count": null,
   "metadata": {
    "collapsed": false
   },
   "outputs": [],
   "source": []
  },
  {
   "cell_type": "code",
   "execution_count": null,
   "metadata": {
    "collapsed": true
   },
   "outputs": [],
   "source": []
  },
  {
   "cell_type": "code",
   "execution_count": null,
   "metadata": {
    "collapsed": true
   },
   "outputs": [],
   "source": []
  },
  {
   "cell_type": "code",
   "execution_count": null,
   "metadata": {
    "collapsed": true
   },
   "outputs": [],
   "source": []
  }
 ],
 "metadata": {
  "kernelspec": {
   "display_name": "Python 3",
   "language": "python",
   "name": "python3"
  },
  "language_info": {
   "codemirror_mode": {
    "name": "ipython",
    "version": 3
   },
   "file_extension": ".py",
   "mimetype": "text/x-python",
   "name": "python",
   "nbconvert_exporter": "python",
   "pygments_lexer": "ipython3",
   "version": "3.4.3"
  }
 },
 "nbformat": 4,
 "nbformat_minor": 0
}
