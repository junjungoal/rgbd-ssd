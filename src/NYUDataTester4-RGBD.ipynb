{
 "cells": [
  {
   "cell_type": "code",
   "execution_count": 2,
   "metadata": {
    "collapsed": false
   },
   "outputs": [
    {
     "name": "stderr",
     "output_type": "stream",
     "text": [
      "Using TensorFlow backend.\n"
     ]
    }
   ],
   "source": [
    "%matplotlib inline\n",
    "import numpy as np\n",
    "from scipy.misc import imread\n",
    "import pickle\n",
    "import matplotlib.pyplot as plt\n",
    "from scipy.misc import imread\n",
    "import tensorflow as tf\n",
    "from keras.preprocessing import image\n",
    "from keras.backend.tensorflow_backend import set_session\n",
    "from ssd import SSD300\n",
    "from keras.applications.imagenet_utils import preprocess_input\n",
    "from ssd_utils import BBoxUtility\n",
    "import matplotlib.pyplot as plt\n",
    "from SSD_tester import calc_detection_prec_rec, calc_detection_ap\n",
    "from SSD_RGBD import RGBD_SSD300\n",
    "\n",
    "config = tf.ConfigProto(\n",
    "    gpu_options=tf.GPUOptions(\n",
    "        allow_growth=True \n",
    "    )\n",
    ")\n",
    "sess = sess = tf.Session(config=config)\n",
    "\n"
   ]
  },
  {
   "cell_type": "code",
   "execution_count": 3,
   "metadata": {
    "collapsed": false
   },
   "outputs": [],
   "source": [
    "NYU_CLASSES = ['bathtub', 'bed', 'bookshelf', 'box', 'chair', 'counter', 'desk', 'door', 'dresser',\n",
    "               'garbage_bin', 'lamp', 'monitor', 'night_stand', 'pillow', 'sink', 'sofa', 'table', 'tv', 'toilet']\n",
    "NUM_CLASSES = len(NYU_CLASSES) + 1\n",
    "rgb_input_shape = (300, 300, 3) #channel lastde\n",
    "depth_input_shape = (300, 300, 1\n",
    "                    )"
   ]
  },
  {
   "cell_type": "code",
   "execution_count": 4,
   "metadata": {
    "collapsed": false
   },
   "outputs": [],
   "source": [
    "model = RGBD_SSD300(rgb_input_shape, depth_input_shape, num_classes=NUM_CLASSES)\n",
    "model.load_weights('/home/jun/projects/rgbd-SSD/checkpoints/SUNRGBD/RGBD/v6/weights-v6.29-3.98.hdf5')"
   ]
  },
  {
   "cell_type": "code",
   "execution_count": 5,
   "metadata": {
    "collapsed": false
   },
   "outputs": [],
   "source": [
    "rgb_gt = pickle.load(open('../pkls/SUNRGBD/RGB_v7.pkl', 'rb'))\n",
    "depth_gt = pickle.load(open('../pkls/SUNRGBD/Depth_v7.pkl', 'rb'))\n",
    "\n",
    "rgb_keys = sorted(rgb_gt.keys())\n",
    "depth_keys = sorted(depth_gt.keys())\n",
    "num_train = int(round(0.9 * len(rgb_keys)))\n",
    "rgb_train_keys = rgb_keys[:num_train]\n",
    "rgb_val_keys = rgb_keys[num_train:]\n",
    "depth_train_keys = depth_keys[:num_train]\n",
    "depth_val_keys = depth_keys[num_train:]\n",
    "num_val = len(rgb_val_keys)"
   ]
  },
  {
   "cell_type": "code",
   "execution_count": 22,
   "metadata": {
    "collapsed": false
   },
   "outputs": [
    {
     "name": "stdout",
     "output_type": "stream",
     "text": [
      "(966, 300, 300, 1)\n"
     ]
    }
   ],
   "source": [
    "path_prefix = '../dataset/'\n",
    "rgb_inputs = []\n",
    "depth_inputs = []\n",
    "images = []\n",
    "# img_path = path_prefix + sorted(val_keys )[100]\n",
    "# img = image.load_img(img_path, target_size=(300, 300))\n",
    "# img = image.img_to_array(img)\n",
    "# images.append(imread(img_path))\n",
    "# inputs.append(img.copy())\n",
    "# inputs = preprocess_input(np.array(inputs))\n",
    "\n",
    "for rgb_key, depth_key in zip(rgb_val_keys, depth_val_keys):\n",
    "    rgb_img_path = path_prefix + rgb_key\n",
    "    depth_img_path = path_prefix + depth_key\n",
    "    rgb_img = image.load_img(rgb_img_path, target_size=(300, 300))\n",
    "    depth_img = image.load_img(depth_img_path, target_size=(300, 300), grayscale=True)\n",
    "    rgb_img = image.img_to_array(rgb_img)\n",
    "    depth_img = image.img_to_array(depth_img)\n",
    "#    images.append(imread(img_path))\n",
    "    rgb_inputs.append(rgb_img.copy())\n",
    "    depth_inputs.append(depth_img.copy())\n",
    "print(np.array(depth_inputs).shape)\n",
    "rgb_inputs = preprocess_input(np.array(rgb_inputs))\n",
    "depth_inputs = preprocess_input(np.transpose(np.array(depth_inputs), (0, 3, 1, 2))).transpose(0, 2, 3, 1)\n",
    "inputs = [rgb_inputs, depth_inputs]"
   ]
  },
  {
   "cell_type": "code",
   "execution_count": 23,
   "metadata": {
    "collapsed": false
   },
   "outputs": [
    {
     "name": "stdout",
     "output_type": "stream",
     "text": [
      "966/966 [==============================] - 16s    \n"
     ]
    }
   ],
   "source": [
    "priors = pickle.load(open('../pkls/prior_boxes_ssd300.pkl', 'rb'))\n",
    "bbox_util = BBoxUtility(NUM_CLASSES, priors)\n",
    "preds = model.predict(inputs, batch_size=16, verbose=1)"
   ]
  },
  {
   "cell_type": "code",
   "execution_count": 24,
   "metadata": {
    "collapsed": true
   },
   "outputs": [],
   "source": [
    "results = bbox_util.detection_out(preds, confidence_threshold=0.6)"
   ]
  },
  {
   "cell_type": "code",
   "execution_count": 25,
   "metadata": {
    "collapsed": false
   },
   "outputs": [],
   "source": [
    "gt_bboxes = []\n",
    "gt_labels = []\n",
    "gt_scores = []\n",
    "for key in rgb_val_keys:\n",
    "    index = np.where(rgb_gt[key][:, 4:] == 1)\n",
    "    gt_bboxes.append(rgb_gt[key][:, :4])\n",
    "    gt_labels.append((index[1]).reshape(len(index[1]), 1))\n",
    "    gt_scores.append(np.ones((len(index[1]), 1)))\n",
    "gt_bboxes = np.array(gt_bboxes)\n",
    "gt_labels = np.array(gt_labels)\n",
    "gt_scores = np.array(gt_scores)"
   ]
  },
  {
   "cell_type": "code",
   "execution_count": 26,
   "metadata": {
    "collapsed": false
   },
   "outputs": [],
   "source": [
    "pred_labels = []\n",
    "pred_scores = []\n",
    "pred_bboxes = []\n",
    "for result in results:\n",
    "    if len(result) != 0:\n",
    "        nm = len(result[:, 1])\n",
    "        pred_labels.append((result[:, 0]-1).reshape(nm, 1))\n",
    "        pred_scores.append(result[:, 1:2].reshape(nm, 1))\n",
    "        pred_bboxes.append(result[:, 2:].reshape(nm, 4))\n",
    "    else:\n",
    "        pred_labels.append(np.array([]).reshape(0, 1))\n",
    "        pred_scores.append(np.array([]).reshape(0, 1))\n",
    "        pred_bboxes.append(np.array([]).reshape(0, 1))\n",
    "pred_labels = np.array(pred_labels)\n",
    "pred_scores = np.array(pred_scores)\n",
    "\n",
    "pred_bboxes = np.array(pred_bboxes)"
   ]
  },
  {
   "cell_type": "code",
   "execution_count": 27,
   "metadata": {
    "collapsed": false
   },
   "outputs": [
    {
     "data": {
      "text/plain": [
       "(966,)"
      ]
     },
     "execution_count": 27,
     "metadata": {},
     "output_type": "execute_result"
    }
   ],
   "source": [
    "gt_labels.shape"
   ]
  },
  {
   "cell_type": "code",
   "execution_count": null,
   "metadata": {
    "collapsed": false
   },
   "outputs": [],
   "source": []
  },
  {
   "cell_type": "code",
   "execution_count": 28,
   "metadata": {
    "collapsed": false
   },
   "outputs": [],
   "source": [
    "prec, rec = calc_detection_prec_rec(pred_labels, pred_scores, pred_bboxes, gt_bboxes, gt_labels, iou_thresh=0.3)"
   ]
  },
  {
   "cell_type": "code",
   "execution_count": 29,
   "metadata": {
    "collapsed": false
   },
   "outputs": [
    {
     "data": {
      "text/plain": [
       "{'ap': array([ 0.        ,  0.        ,  0.        ,  0.        ,  0.09090909,\n",
       "         0.        ,  0.        ,  0.        ,  0.        ,  0.        ,\n",
       "         0.        ,  0.        ,  0.        ,  0.        ,  0.        ,\n",
       "         0.        ,  0.        ,  0.        ,  0.        ]),\n",
       " 'map': 0.0047846889952153108}"
      ]
     },
     "execution_count": 29,
     "metadata": {},
     "output_type": "execute_result"
    }
   ],
   "source": [
    "ap = calc_detection_ap(prec, rec, use_07_metric=True)\n",
    "{'ap': ap, 'map': np.nanmean(ap)}"
   ]
  },
  {
   "cell_type": "code",
   "execution_count": null,
   "metadata": {
    "collapsed": true
   },
   "outputs": [],
   "source": []
  },
  {
   "cell_type": "code",
   "execution_count": 20,
   "metadata": {
    "collapsed": false
   },
   "outputs": [],
   "source": [
    "for i, img in enumerate(images):\n",
    "    if len(results[i]) == 0:\n",
    "        continue\n",
    "    det_label = results[i][:, 0]\n",
    "    det_conf = results[i][:, 1]\n",
    "    det_xmin = results[i][:, 2]\n",
    "    det_ymin = results[i][:, 3]\n",
    "    det_xmax = results[i][:, 4]\n",
    "    det_ymax = results[i][:, 5]\n",
    "\n",
    "    # Get detections with confidence higher than 0.6.\n",
    "    top_indices = [i for i, conf in enumerate(det_conf) if conf >= 0.5]\n",
    "\n",
    "    top_conf = det_conf[top_indices]\n",
    "    top_label_indices = det_label[top_indices].tolist()\n",
    "    top_xmin = det_xmin[top_indices]\n",
    "    top_ymin = det_ymin[top_indices]\n",
    "    top_xmax = det_xmax[top_indices]\n",
    "    top_ymax = det_ymax[top_indices]\n",
    "\n",
    "    colors = plt.cm.hsv(np.linspace(0, 1, 21)).tolist()\n",
    "    plt.imshow(img / 255.)\n",
    "    currentAxis = plt.gca()\n",
    "\n",
    "\n",
    "    for i in range(top_conf.shape[0]):\n",
    "        xmin = int(round(top_xmin[i] * img.shape[1]))\n",
    "        ymin = int(round(top_ymin[i] * img.shape[0]))\n",
    "        xmax = int(round(top_xmax[i] * img.shape[1]))\n",
    "        ymax = int(round(top_ymax[i] * img.shape[0]))\n",
    "        score = top_conf[i]\n",
    "        label = int(top_label_indices[i])\n",
    "        label_name = NYU_CLASSES[label - 1]\n",
    "        display_txt = '{:0.2f}, {}'.format(score, label_name)\n",
    "        coords = (xmin, ymin), xmax-xmin, ymax-ymin\n",
    "        color = colors[label]\n",
    "        currentAxis.add_patch(plt.Rectangle(*coords, fill=False, edgecolor=color, linewidth=2))\n",
    "        currentAxis.text(xmin, ymin, display_txt, bbox={'facecolor':color, 'alpha':0.5})\n",
    "    \n",
    "    plt.show()"
   ]
  },
  {
   "cell_type": "code",
   "execution_count": 21,
   "metadata": {
    "collapsed": false
   },
   "outputs": [
    {
     "ename": "NameError",
     "evalue": "name 'val_keys' is not defined",
     "output_type": "error",
     "traceback": [
      "\u001b[1;31m---------------------------------------------------------------------------\u001b[0m",
      "\u001b[1;31mNameError\u001b[0m                                 Traceback (most recent call last)",
      "\u001b[1;32m<ipython-input-21-48c3c83fda11>\u001b[0m in \u001b[0;36m<module>\u001b[1;34m()\u001b[0m\n\u001b[0;32m      1\u001b[0m \u001b[1;31m#calc_map()\u001b[0m\u001b[1;33m\u001b[0m\u001b[1;33m\u001b[0m\u001b[0m\n\u001b[0;32m      2\u001b[0m \u001b[0my_true\u001b[0m \u001b[1;33m=\u001b[0m \u001b[1;33m[\u001b[0m\u001b[1;33m]\u001b[0m\u001b[1;33m\u001b[0m\u001b[0m\n\u001b[1;32m----> 3\u001b[1;33m \u001b[1;32mfor\u001b[0m \u001b[0mkey\u001b[0m \u001b[1;32min\u001b[0m \u001b[0mval_keys\u001b[0m\u001b[1;33m:\u001b[0m\u001b[1;33m\u001b[0m\u001b[0m\n\u001b[0m\u001b[0;32m      4\u001b[0m     \u001b[0my_true\u001b[0m\u001b[1;33m.\u001b[0m\u001b[0mappend\u001b[0m\u001b[1;33m(\u001b[0m\u001b[0mgt\u001b[0m\u001b[1;33m[\u001b[0m\u001b[0mkey\u001b[0m\u001b[1;33m]\u001b[0m\u001b[1;33m)\u001b[0m\u001b[1;33m\u001b[0m\u001b[0m\n\u001b[0;32m      5\u001b[0m \u001b[0my_true\u001b[0m \u001b[1;33m=\u001b[0m \u001b[0mnp\u001b[0m\u001b[1;33m.\u001b[0m\u001b[0marray\u001b[0m\u001b[1;33m(\u001b[0m\u001b[0my_true\u001b[0m\u001b[1;33m)\u001b[0m\u001b[1;33m\u001b[0m\u001b[0m\n",
      "\u001b[1;31mNameError\u001b[0m: name 'val_keys' is not defined"
     ]
    }
   ],
   "source": [
    "#calc_map()\n",
    "y_true = []\n",
    "for key in val_keys:\n",
    "    y_true.append(gt[key])\n",
    "y_true = np.array(y_true)\n",
    "print(y_true.shape)"
   ]
  },
  {
   "cell_type": "code",
   "execution_count": null,
   "metadata": {
    "collapsed": false
   },
   "outputs": [],
   "source": [
    "inputs = []\n",
    "images = []\n",
    "for key in val_keys:\n",
    "    img_path = path_prefix + key\n",
    "    img = image.load_img(img_path, target_size=(300, 300))\n",
    "    img = image.img_to_array(img)\n",
    "    images.append(imread(img_path))\n",
    "    inputs.append(img.copy())\n",
    "inputs = preprocess_input(np.array(inputs))\n",
    "preds = model.predict(inputs, batch_size=1, verbose=1)\n",
    "results = bbox_util.detection_out(preds)"
   ]
  },
  {
   "cell_type": "code",
   "execution_count": null,
   "metadata": {
    "collapsed": false
   },
   "outputs": [],
   "source": [
    "#calc_map(y_true, results)\n",
    "print(results[0])"
   ]
  },
  {
   "cell_type": "code",
   "execution_count": null,
   "metadata": {
    "collapsed": true
   },
   "outputs": [],
   "source": []
  },
  {
   "cell_type": "code",
   "execution_count": null,
   "metadata": {
    "collapsed": true
   },
   "outputs": [],
   "source": []
  },
  {
   "cell_type": "code",
   "execution_count": null,
   "metadata": {
    "collapsed": true
   },
   "outputs": [],
   "source": []
  },
  {
   "cell_type": "code",
   "execution_count": null,
   "metadata": {
    "collapsed": true
   },
   "outputs": [],
   "source": []
  },
  {
   "cell_type": "code",
   "execution_count": null,
   "metadata": {
    "collapsed": true
   },
   "outputs": [],
   "source": []
  },
  {
   "cell_type": "code",
   "execution_count": null,
   "metadata": {
    "collapsed": true
   },
   "outputs": [],
   "source": []
  },
  {
   "cell_type": "code",
   "execution_count": null,
   "metadata": {
    "collapsed": true
   },
   "outputs": [],
   "source": []
  }
 ],
 "metadata": {
  "kernelspec": {
   "display_name": "Python 3",
   "language": "python",
   "name": "python3"
  },
  "language_info": {
   "codemirror_mode": {
    "name": "ipython",
    "version": 3
   },
   "file_extension": ".py",
   "mimetype": "text/x-python",
   "name": "python",
   "nbconvert_exporter": "python",
   "pygments_lexer": "ipython3",
   "version": "3.4.3"
  }
 },
 "nbformat": 4,
 "nbformat_minor": 2
}
