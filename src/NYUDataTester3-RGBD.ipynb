{
 "cells": [
  {
   "cell_type": "code",
   "execution_count": 1,
   "metadata": {
    "collapsed": false
   },
   "outputs": [
    {
     "name": "stderr",
     "output_type": "stream",
     "text": [
      "Using TensorFlow backend.\n"
     ]
    }
   ],
   "source": [
    "%matplotlib inline\n",
    "import numpy as np\n",
    "from scipy.misc import imread\n",
    "import pickle\n",
    "import matplotlib.pyplot as plt\n",
    "from scipy.misc import imread, imresize\n",
    "import tensorflow as tf\n",
    "from keras.preprocessing import image\n",
    "from keras.backend.tensorflow_backend import set_session\n",
    "from ssd import SSD300\n",
    "from keras.applications.imagenet_utils import preprocess_input\n",
    "from ssd_utils import BBoxUtility\n",
    "import matplotlib.pyplot as plt\n",
    "from SSD_tester import calc_detection_prec_rec, calc_detection_ap\n",
    "from SSD_RGBD2 import RGBD_SSD300\n",
    "from depth_preprocess import hole_filling\n",
    "import cv2\n",
    "\n",
    "\n",
    "config = tf.ConfigProto(\n",
    "    gpu_options=tf.GPUOptions(\n",
    "        visible_device_list=\"0\",\n",
    "        allow_growth=True # True->必要になったら確保, False->全部\n",
    "    )\n",
    ")\n",
    "set_session(tf.Session(config=config))\n",
    "\n"
   ]
  },
  {
   "cell_type": "code",
   "execution_count": 2,
   "metadata": {
    "collapsed": false
   },
   "outputs": [],
   "source": [
    "NYU_CLASSES = ['bathtub', 'bed', 'bookshelf', 'box', 'chair', 'counter', 'desk', 'door', 'dresser',\n",
    "               'garbage_bin', 'lamp', 'monitor', 'night_stand', 'pillow', 'sink', 'sofa', 'table', 'tv', 'toilet']\n",
    "NUM_CLASSES = len(NYU_CLASSES) + 1\n",
    "rgb_input_shape = (300, 300, 3) #channel lastde\n",
    "depth_input_shape = (300, 300, 1\n",
    "                    )"
   ]
  },
  {
   "cell_type": "code",
   "execution_count": 3,
   "metadata": {
    "collapsed": false
   },
   "outputs": [],
   "source": [
    "model = RGBD_SSD300(rgb_input_shape, depth_input_shape, num_classes=NUM_CLASSES)\n",
    "model.load_weights('/data/jun/checkpoints/SUNRGBD/estimation/RGBD-2/RGBD-2/v8/weights-5.57-1.53.hdf5',by_name=True)"
   ]
  },
  {
   "cell_type": "code",
   "execution_count": 4,
   "metadata": {
    "collapsed": false
   },
   "outputs": [
    {
     "name": "stdout",
     "output_type": "stream",
     "text": [
      "SUNRGBD/kv2/kinect2data/002436_2014-06-28_20-30-21_260595134347_rgbf000094-resize/depth/0000094.png\n"
     ]
    }
   ],
   "source": [
    "rgb_gt = pickle.load(open('../pkls/SUNRGBD/RGB_v8.pkl', 'rb'))\n",
    "depth_gt = pickle.load(open('../pkls/SUNRGBD/Depth_v8.pkl', 'rb'))\n",
    "rgb_keys = pickle.load(open('/data/jun/pkls/RGBD-2/rgb-v8.pkl', 'rb'))\n",
    "depth_keys = pickle.load(open('/data/jun/pkls/RGBD-2/depth-v8.pkl', 'rb'))\n",
    "num_train = int(round(0.8 * len(rgb_keys)))\n",
    "rgb_train_keys = rgb_keys[:num_train]\n",
    "depth_train_keys = depth_keys[:num_train]\n",
    "num_val = int(round((len(rgb_keys) - num_train)/2))\n",
    "rgb_val_keys = rgb_keys[num_train:]\n",
    "rgb_val_keys = rgb_val_keys[:num_val]\n",
    "depth_val_keys = depth_keys[num_train:]\n",
    "depth_val_keys = depth_val_keys[:num_val]\n",
    "rgb_test_keys = rgb_keys[num_train:]\n",
    "rgb_test_keys = rgb_test_keys[num_val:]\n",
    "depth_test_keys = depth_keys[num_train:]\n",
    "depth_test_keys = depth_test_keys[num_val:]\n",
    "print(depth_keys[0])"
   ]
  },
  {
   "cell_type": "code",
   "execution_count": 5,
   "metadata": {
    "collapsed": false
   },
   "outputs": [
    {
     "name": "stderr",
     "output_type": "stream",
     "text": [
      "/home/jun/.virtualenvs/rgbd-ssd/lib/python3.4/site-packages/ipykernel_launcher.py:15: DeprecationWarning: `imread` is deprecated!\n",
      "`imread` is deprecated in SciPy 1.0.0, and will be removed in 1.2.0.\n",
      "Use ``imageio.imread`` instead.\n",
      "  from ipykernel import kernelapp as app\n",
      "/home/jun/.virtualenvs/rgbd-ssd/lib/python3.4/site-packages/ipykernel_launcher.py:16: DeprecationWarning: `imread` is deprecated!\n",
      "`imread` is deprecated in SciPy 1.0.0, and will be removed in 1.2.0.\n",
      "Use ``imageio.imread`` instead.\n",
      "  app.launch_new_instance()\n",
      "/home/jun/.virtualenvs/rgbd-ssd/lib/python3.4/site-packages/ipykernel_launcher.py:17: DeprecationWarning: `imresize` is deprecated!\n",
      "`imresize` is deprecated in SciPy 1.0.0, and will be removed in 1.2.0.\n",
      "Use ``skimage.transform.resize`` instead.\n",
      "/home/jun/.virtualenvs/rgbd-ssd/lib/python3.4/site-packages/ipykernel_launcher.py:18: DeprecationWarning: `imresize` is deprecated!\n",
      "`imresize` is deprecated in SciPy 1.0.0, and will be removed in 1.2.0.\n",
      "Use ``skimage.transform.resize`` instead.\n",
      "/home/jun/.virtualenvs/rgbd-ssd/lib/python3.4/site-packages/ipykernel_launcher.py:30: DeprecationWarning: `imread` is deprecated!\n",
      "`imread` is deprecated in SciPy 1.0.0, and will be removed in 1.2.0.\n",
      "Use ``imageio.imread`` instead.\n"
     ]
    }
   ],
   "source": [
    "path_prefix = '/data/jun/dataset/'\n",
    "rgb_inputs = []\n",
    "depth_inputs = []\n",
    "images = []\n",
    "# img_path = path_prefix + sorted(val_keys )[100]\n",
    "# img = image.load_img(img_path, target_size=(300, 300))\n",
    "# img = image.img_to_array(img)\n",
    "# images.append(imread(img_path))\n",
    "# inputs.append(img.copy())\n",
    "# inputs = preprocess_input(np.array(inputs))\n",
    "\n",
    "for rgb_key, depth_key in zip(rgb_test_keys, depth_test_keys):\n",
    "    rgb_img_path = path_prefix + rgb_key\n",
    "    depth_img_path = path_prefix + depth_key\n",
    "    rgb_img = imread(rgb_img_path).astype('float32')\n",
    "    depth_img = imread(depth_img_path, mode='L').astype('float32')\n",
    "    rgb_img = imresize(rgb_img, (300, 300)).astype('float32')\n",
    "    depth_img = imresize(depth_img, (300, 300)).astype('float32')\n",
    "    depth_img = depth_img / np.max(depth_img)\n",
    "    depth_img = np.sqrt(depth_img)\n",
    "    depth_img = np.array(depth_img*256, dtype=int)\n",
    "    depth_img = hole_filling(depth_img)\n",
    "    depth_img = np.uint8(depth_img)\n",
    "    depth_img = cv2.Canny(depth_img, 70, 110)\n",
    "    depth_img = cv2.bilateralFilter(depth_img, d=5, sigmaColor=5, sigmaSpace=2)\n",
    "    depth_img = np.expand_dims(depth_img, axis=2)\n",
    "    std = np.std(rgb_img)\n",
    "    rgb_img -= np.mean(rgb_img)\n",
    "    rgb_img /= std\n",
    "    img = imread(rgb_img_path)\n",
    "    images.append(img)\n",
    "\n",
    "    \n",
    "\n",
    "#    images.append(imread(img_path))\n",
    "    rgb_inputs.append(rgb_img.copy())\n",
    "    depth_inputs.append(depth_img.copy())\n",
    "    \n",
    "inputs = [np.array(rgb_inputs), np.array(depth_inputs)]"
   ]
  },
  {
   "cell_type": "code",
   "execution_count": 6,
   "metadata": {
    "collapsed": false
   },
   "outputs": [
    {
     "name": "stdout",
     "output_type": "stream",
     "text": [
      "966/966 [==============================] - 22s    \n"
     ]
    }
   ],
   "source": [
    "priors = pickle.load(open('../pkls/prior_boxes_ssd300.pkl', 'rb'))\n",
    "bbox_util = BBoxUtility(NUM_CLASSES, priors)\n",
    "preds = model.predict(inputs, batch_size=16, verbose=1)"
   ]
  },
  {
   "cell_type": "code",
   "execution_count": 7,
   "metadata": {
    "collapsed": true
   },
   "outputs": [],
   "source": [
    "results = bbox_util.detection_out(preds, confidence_threshold=0.5)"
   ]
  },
  {
   "cell_type": "code",
   "execution_count": 8,
   "metadata": {
    "collapsed": false
   },
   "outputs": [],
   "source": [
    "gt_bboxes = []\n",
    "gt_labels = []\n",
    "gt_scores = []\n",
    "for key in rgb_test_keys:\n",
    "    index = np.where(rgb_gt[key][:, 4:] == 1)\n",
    "    gt_bboxes.append(rgb_gt[key][:, :4])\n",
    "    gt_labels.append((index[1]).reshape(len(index[1]), 1))\n",
    "    gt_scores.append(np.ones((len(index[1]), 1)))\n",
    "gt_bboxes = np.array(gt_bboxes)\n",
    "gt_labels = np.array(gt_labels)\n",
    "gt_scores = np.array(gt_scores)"
   ]
  },
  {
   "cell_type": "code",
   "execution_count": 9,
   "metadata": {
    "collapsed": false
   },
   "outputs": [],
   "source": [
    "pred_labels = []\n",
    "pred_scores = []\n",
    "pred_bboxes = []\n",
    "for result in results:\n",
    "    if len(result) != 0:\n",
    "        nm = len(result[:, 1])\n",
    "        pred_labels.append((result[:, 0]-1).reshape(nm, 1))\n",
    "        pred_scores.append(result[:, 1:2].reshape(nm, 1))\n",
    "        pred_bboxes.append(result[:, 2:].reshape(nm, 4))\n",
    "    else:\n",
    "        pred_labels.append(np.array([]).reshape(0, 1))\n",
    "        pred_scores.append(np.array([]).reshape(0, 1))\n",
    "        pred_bboxes.append(np.array([]).reshape(0, 1))\n",
    "pred_labels = np.array(pred_labels)\n",
    "pred_scores = np.array(pred_scores)\n",
    "\n",
    "pred_bboxes = np.array(pred_bboxes)"
   ]
  },
  {
   "cell_type": "code",
   "execution_count": 10,
   "metadata": {
    "collapsed": false
   },
   "outputs": [
    {
     "data": {
      "text/plain": [
       "(966,)"
      ]
     },
     "execution_count": 10,
     "metadata": {},
     "output_type": "execute_result"
    }
   ],
   "source": [
    "gt_labels.shape"
   ]
  },
  {
   "cell_type": "code",
   "execution_count": null,
   "metadata": {
    "collapsed": false
   },
   "outputs": [],
   "source": []
  },
  {
   "cell_type": "code",
   "execution_count": 11,
   "metadata": {
    "collapsed": false
   },
   "outputs": [],
   "source": [
    "prec, rec, mean_iou = calc_detection_prec_rec(pred_labels, pred_scores, pred_bboxes, gt_bboxes, gt_labels, iou_thresh=0.5)"
   ]
  },
  {
   "cell_type": "code",
   "execution_count": 12,
   "metadata": {
    "collapsed": false
   },
   "outputs": [
    {
     "data": {
      "text/plain": [
       "{'ap': array([ 0.47272727,  0.68345548,  0.47654088,  0.09231853,  0.57511268,\n",
       "         0.40803338,  0.38063675,  0.36014268,  0.33136301,  0.37596004,\n",
       "         0.39179173,  0.32011613,  0.35223273,  0.39629255,  0.513098  ,\n",
       "         0.53973129,  0.48099381,  0.45311065,  0.71272727]),\n",
       " 'map': 0.43770446652412298}"
      ]
     },
     "execution_count": 12,
     "metadata": {},
     "output_type": "execute_result"
    }
   ],
   "source": [
    "ap = calc_detection_ap(prec, rec, use_07_metric=True)\n",
    "{'ap': ap, 'map': np.nanmean(ap)}"
   ]
  },
  {
   "cell_type": "code",
   "execution_count": 13,
   "metadata": {
    "collapsed": true
   },
   "outputs": [],
   "source": [
    "import csv\n",
    "\n",
    "f_recall = open('rgbd-2_recall.csv', 'w')\n",
    "f_precision = open('rgbd-2_precision.csv', 'w')\n",
    "writer_recall = csv.writer(f_recall, lineterminator='\\n')\n",
    "writer_precision = csv.writer(f_precision, lineterminator='\\n')"
   ]
  },
  {
   "cell_type": "code",
   "execution_count": 14,
   "metadata": {
    "collapsed": false
   },
   "outputs": [],
   "source": [
    "for i in range(len(NYU_CLASSES)):\n",
    "#     plt.figure()\n",
    "    y = prec[i]\n",
    "    x = rec[i]\n",
    "    writer_recall.writerow(x)\n",
    "    writer_precision.writerow(y)\n",
    "f_recall.close()\n",
    "f_precision.close()\n",
    "\n",
    "#     plt.plot(x, y)\n",
    "#     plt.axis([0, 1.0, 0, 1.0])\n",
    "#     plt.title(NYU_CLASSES[i])\n",
    "#     plt.xlabel('Recall')\n",
    "#     plt.ylabel('Precision')\n",
    "#     plt.savefig(('../results/PRC/RGBD-2/' + NYU_CLASSES[i]+'.png'))"
   ]
  },
  {
   "cell_type": "code",
   "execution_count": null,
   "metadata": {
    "collapsed": true
   },
   "outputs": [],
   "source": []
  },
  {
   "cell_type": "code",
   "execution_count": 14,
   "metadata": {
    "collapsed": true
   },
   "outputs": [],
   "source": [
    "mAP_array = []\n",
    "for i in np.linspace(0, 1, 101):\n",
    "    prec, rec, mean_iou = calc_detection_prec_rec(pred_labels, pred_scores, pred_bboxes, gt_bboxes, gt_labels, iou_thresh=i)\n",
    "    ap = calc_detection_ap(prec, rec, use_07_metric=True)\n",
    "    mAP_array.append(np.nanmean(ap))"
   ]
  },
  {
   "cell_type": "code",
   "execution_count": null,
   "metadata": {
    "collapsed": false
   },
   "outputs": [
    {
     "name": "stdout",
     "output_type": "stream",
     "text": [
      "[0.44958546434865976, 0.44958546434865976, 0.44958546434865976, 0.44958546434865976, 0.44958546434865976, 0.44958546434865976, 0.44954656012894062, 0.44954656012894062, 0.44952451087089812, 0.44952451087089812, 0.44952451087089812, 0.44952451087089812, 0.44952451087089812, 0.44952451087089812, 0.44952451087089812, 0.44952451087089812, 0.44952451087089812, 0.44887869389825374, 0.44886312923263871, 0.44886312923263871, 0.44886312923263871, 0.44864216416811314, 0.44864216416811314, 0.44864216416811314, 0.44863813149314558, 0.44687652303916153, 0.44676525120206351, 0.44611655926603827, 0.44596024626042702, 0.44596024626042702, 0.44596024626042702, 0.44539833946453705, 0.44494764340042497, 0.44482200363852042, 0.44410391554066281, 0.44389130108389491, 0.44128057214737365, 0.44056446143171329, 0.44056446143171329, 0.44025988005552097, 0.43936067614922897, 0.43874094090740307, 0.43850315440097415, 0.43836796307291526, 0.43827414564163653, 0.43797028532240501, 0.43787331932419421, 0.4378607280373647, 0.43780208090176187, 0.43771394283471077, 0.43770446652412298, 0.43767603411461176, 0.43713752940186995, 0.43690146864968016, 0.43687066385825341, 0.43668222245962601, 0.4362226680302399, 0.43443375271988482, 0.43171103996411841, 0.43136253357153476, 0.42958000261070883, 0.42601253536681433, 0.42579034641300351, 0.42556795688590437, 0.42366057726928158, 0.42329247015165344, 0.42212002315362956, 0.42198932062294692, 0.41698867500285652, 0.41397108253460985, 0.41157161710428281, 0.40930711285386101, 0.40798259829729772, 0.40746594363534366, 0.40543099710269326, 0.40249450744470527, 0.40163910611672476, 0.39791210564784596, 0.39598120866060166, 0.39289483830722288, 0.38851389942492254, 0.38663917533930164, 0.38135248032326208, 0.37258935461677573, 0.36635170454569238, 0.36082652879514954, 0.35258585534147252, 0.34280854825008672, 0.33590348496334782, 0.31291916950643966, 0.2988313465799568, 0.27707567260424981, 0.25300935975851646, 0.22978359615911709, 0.18549210876678421, 0.14871944270625931, 0.094391594031296988, 0.050198068372847175, 0.026381112452001393, 0.0038959620513741664, 0.0]\n"
     ]
    },
    {
     "data": {
      "image/png": "[encoded data removed]",
      "text/plain": [
       "<matplotlib.figure.Figure at 0x7fcbac1e0438>"
      ]
     },
     "metadata": {},
     "output_type": "display_data"
    }
   ],
   "source": [
    "print(mAP_array)\n",
    "plt.plot(np.linspace(0, 1, 101), np.array(mAP_array))\n",
    "plt.title('Overlap Threshold and mAP')\n",
    "plt.xlabel('Overlap Threshold')\n",
    "plt.ylabel('mAP')\n",
    "plt.savefig('../results/map_overlap/RGBD-2.png')"
   ]
  },
  {
   "cell_type": "code",
   "execution_count": null,
   "metadata": {
    "collapsed": true
   },
   "outputs": [],
   "source": []
  },
  {
   "cell_type": "code",
   "execution_count": null,
   "metadata": {
    "collapsed": true
   },
   "outputs": [],
   "source": [
    "ap_array = np.zeros((len(NYU_CLASSES), len(np.linspace(0, 1, 101))))\n",
    "for i, thresh in enumerate(np.linspace(0, 1, 101)):\n",
    "    prec, rec, mean_iou = calc_detection_prec_rec(pred_labels, pred_scores, pred_bboxes, gt_bboxes, gt_labels, iou_thresh=thresh)\n",
    "    ap = calc_detection_ap(prec, rec, use_07_metric=True)\n",
    "    for k in range(len(NYU_CLASSES)):\n",
    "        ap_array[k][i] = ap[k]\n",
    "\n",
    "        "
   ]
  },
  {
   "cell_type": "code",
   "execution_count": null,
   "metadata": {
    "collapsed": false
   },
   "outputs": [],
   "source": [
    "\n",
    "for k in range(len(NYU_CLASSES)):\n",
    "    plt.figure()\n",
    "    plt.plot(np.linspace(0, 1, 101), np.array(ap_array[k]))\n",
    "    plt.title(NYU_CLASSES[k])\n",
    "    plt.xlabel('Overlap Threshold')\n",
    "    plt.ylabel('Average Precision')\n",
    "    plt.savefig(('../results/ap_overlap/RGBD-2/'+NYU_CLASSES[k]+'.png'))"
   ]
  },
  {
   "cell_type": "code",
   "execution_count": null,
   "metadata": {
    "collapsed": true
   },
   "outputs": [],
   "source": []
  },
  {
   "cell_type": "code",
   "execution_count": null,
   "metadata": {
    "collapsed": true
   },
   "outputs": [],
   "source": []
  },
  {
   "cell_type": "code",
   "execution_count": null,
   "metadata": {
    "collapsed": true
   },
   "outputs": [],
   "source": [
    "## 78\n",
    "{'ap': array([ 0.38585859,  0.59114825,  0.42757441,  0.17075776,  0.55760862,\n",
    "         0.39612955,  0.33055594,  0.34356421,  0.30733984,  0.37497776,\n",
    "         0.36810867,  0.37681323,  0.4001548 ,  0.38391123,  0.6153296 ,\n",
    "         0.42694242,  0.45924393,  0.20909091,  0.71212121]),\n",
    " 'map': 0.41248583819374735}\n",
    "\n",
    "## 69\n",
    "{'ap': array([ 0.41558442,  0.61013045,  0.43288354,  0.13026368,  0.55158331,\n",
    "         0.35027605,  0.33910854,  0.2872576 ,  0.17748918,  0.24936903,\n",
    "         0.36140333,  0.33524101,  0.40390922,  0.23619628,  0.60008683,\n",
    "         0.4026273 ,  0.45829485,  0.18308081,  0.69799534]),\n",
    " 'map': 0.38014635556748627}"
   ]
  },
  {
   "cell_type": "code",
   "execution_count": null,
   "metadata": {
    "collapsed": true
   },
   "outputs": [],
   "source": []
  },
  {
   "cell_type": "code",
   "execution_count": null,
   "metadata": {
    "collapsed": true
   },
   "outputs": [],
   "source": []
  },
  {
   "cell_type": "code",
   "execution_count": null,
   "metadata": {
    "collapsed": true
   },
   "outputs": [],
   "source": []
  },
  {
   "cell_type": "code",
   "execution_count": null,
   "metadata": {
    "collapsed": false
   },
   "outputs": [
    {
     "name": "stderr",
     "output_type": "stream",
     "text": [
      "/home/jun/.virtualenvs/rgbd-ssd/lib/python3.4/site-packages/matplotlib/pyplot.py:516: RuntimeWarning: More than 20 figures have been opened. Figures created through the pyplot interface (`matplotlib.pyplot.figure`) are retained until explicitly closed and may consume too much memory. (To control this warning, see the rcParam `figure.max_open_warning`).\n",
      "  max_open_warning, RuntimeWarning)\n"
     ]
    }
   ],
   "source": [
    "for i, img in enumerate(images):\n",
    "    plt.figure()\n",
    "    if len(results[i]) == 0:\n",
    "        continue\n",
    "    det_label = results[i][:, 0]\n",
    "    det_conf = results[i][:, 1]\n",
    "    det_xmin = results[i][:, 2]\n",
    "    det_ymin = results[i][:, 3]\n",
    "    det_xmax = results[i][:, 4]\n",
    "    det_ymax = results[i][:, 5]\n",
    "\n",
    "    # Get detections with confidence higher than 0.6.\n",
    "    top_indices = [i for i, conf in enumerate(det_conf) if conf >= 0.5]\n",
    "\n",
    "    top_conf = det_conf[top_indices]\n",
    "    top_label_indices = det_label[top_indices].tolist()\n",
    "    top_xmin = det_xmin[top_indices]\n",
    "    top_ymin = det_ymin[top_indices]\n",
    "    top_xmax = det_xmax[top_indices]\n",
    "    top_ymax = det_ymax[top_indices]\n",
    "\n",
    "    colors = plt.cm.hsv(np.linspace(0, 1, 21)).tolist()\n",
    "    plt.imshow(img / 255.)\n",
    "    currentAxis = plt.gca()\n",
    "\n",
    "\n",
    "    for i in range(top_conf.shape[0]):\n",
    "        xmin = int(round(top_xmin[i] * img.shape[1]))\n",
    "        ymin = int(round(top_ymin[i] * img.shape[0]))\n",
    "        xmax = int(round(top_xmax[i] * img.shape[1]))\n",
    "        ymax = int(round(top_ymax[i] * img.shape[0]))\n",
    "        score = top_conf[i]\n",
    "        label = int(top_label_indices[i])\n",
    "        label_name = NYU_CLASSES[label - 1]\n",
    "        display_txt = '{:0.2f}, {}'.format(score, label_name)\n",
    "        coords = (xmin, ymin), xmax-xmin, ymax-ymin\n",
    "        color = colors[label]\n",
    "        currentAxis.add_patch(plt.Rectangle(*coords, fill=False, edgecolor=color, linewidth=2))\n",
    "        currentAxis.text(xmin, ymin, display_txt, bbox={'facecolor':color, 'alpha':0.5})\n",
    "    \n",
    "    plt.savefig('../results/detection_images/RGBD-2/image' + str(i) + '_v8.png')"
   ]
  },
  {
   "cell_type": "code",
   "execution_count": null,
   "metadata": {
    "collapsed": false
   },
   "outputs": [],
   "source": [
    "#calc_map()\n",
    "y_true = []\n",
    "for key in val_keys:\n",
    "    y_true.append(gt[key])\n",
    "y_true = np.array(y_true)\n",
    "print(y_true.shape)"
   ]
  },
  {
   "cell_type": "code",
   "execution_count": null,
   "metadata": {
    "collapsed": false
   },
   "outputs": [],
   "source": [
    "inputs = []\n",
    "images = []\n",
    "for key in val_keys:\n",
    "    img_path = path_prefix + key\n",
    "    img = image.load_img(img_path, target_size=(300, 300))\n",
    "    img = image.img_to_array(img)\n",
    "    images.append(imread(img_path))\n",
    "    inputs.append(img.copy())\n",
    "inputs = preprocess_input(np.array(inputs))\n",
    "preds = model.predict(inputs, batch_size=1, verbose=1)\n",
    "results = bbox_util.detection_out(preds)"
   ]
  },
  {
   "cell_type": "code",
   "execution_count": null,
   "metadata": {
    "collapsed": false
   },
   "outputs": [],
   "source": [
    "#calc_map(y_true, results)\n",
    "print(results[0])"
   ]
  },
  {
   "cell_type": "code",
   "execution_count": null,
   "metadata": {
    "collapsed": true
   },
   "outputs": [],
   "source": []
  },
  {
   "cell_type": "code",
   "execution_count": null,
   "metadata": {
    "collapsed": true
   },
   "outputs": [],
   "source": []
  },
  {
   "cell_type": "code",
   "execution_count": null,
   "metadata": {
    "collapsed": true
   },
   "outputs": [],
   "source": []
  },
  {
   "cell_type": "code",
   "execution_count": null,
   "metadata": {
    "collapsed": true
   },
   "outputs": [],
   "source": []
  },
  {
   "cell_type": "code",
   "execution_count": null,
   "metadata": {
    "collapsed": true
   },
   "outputs": [],
   "source": []
  },
  {
   "cell_type": "code",
   "execution_count": null,
   "metadata": {
    "collapsed": true
   },
   "outputs": [],
   "source": []
  },
  {
   "cell_type": "code",
   "execution_count": null,
   "metadata": {
    "collapsed": true
   },
   "outputs": [],
   "source": []
  }
 ],
 "metadata": {
  "kernelspec": {
   "display_name": "Python 3",
   "language": "python",
   "name": "python3"
  },
  "language_info": {
   "codemirror_mode": {
    "name": "ipython",
    "version": 3
   },
   "file_extension": ".py",
   "mimetype": "text/x-python",
   "name": "python",
   "nbconvert_exporter": "python",
   "pygments_lexer": "ipython3",
   "version": "3.4.3"
  }
 },
 "nbformat": 4,
 "nbformat_minor": 2
}
